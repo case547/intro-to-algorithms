{
 "cells": [
  {
   "cell_type": "markdown",
   "source": [
    "***2-1 Insertion sort on small arrays in merge sort***<br>\r\n",
    "Although merge sort runs in Θ(_n_ lg _n_) worst-case time and insertion sort runs in Θ(_n_<sup>2</sup>) worst-case time, the constant factors in insertion sort can make it fasterin practice for small problem sizes on many machines. Thus, it makes sense to ***coarsen*** the leaves of the recursion by using insertion sort within merge sort when subproblems become sufficiently small. Consider a modification to merge sort in which _n_/_k_ sublists of length _k_ are sorted using insertion sort and then merged using the standard merging mechanism, where k is a value to be determined."
   ],
   "metadata": {}
  },
  {
   "cell_type": "markdown",
   "source": [
    "***a.*** Show that insertion sort can sort the _n_/_k_ sublists, each of length _k_, in Θ(_nk_) worst-case time.\r\n",
    "* For each sublist, the sorting will take Θ(_k_<sup>2</sup>) worst-case time\r\n",
    "* As there are _n_/_k_ sublists, sorting all sublists will be sorted in Θ(_n_/_k_ * _k_<sup>2</sup>) = Θ(_nk_) worst-case time"
   ],
   "metadata": {}
  }
 ],
 "metadata": {
  "orig_nbformat": 4,
  "language_info": {
   "name": "python"
  }
 },
 "nbformat": 4,
 "nbformat_minor": 2
}