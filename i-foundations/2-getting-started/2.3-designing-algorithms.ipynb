{
 "metadata": {
  "language_info": {
   "codemirror_mode": {
    "name": "ipython",
    "version": 3
   },
   "file_extension": ".py",
   "mimetype": "text/x-python",
   "name": "python",
   "nbconvert_exporter": "python",
   "pygments_lexer": "ipython3",
   "version": 3
  },
  "orig_nbformat": 4
 },
 "nbformat": 4,
 "nbformat_minor": 2,
 "cells": [
  {
   "cell_type": "code",
   "execution_count": null,
   "metadata": {},
   "outputs": [],
   "source": [
    "def merge(A, p, q, r):\n",
    "    n1 = q - p + 1  # length of subarray A[p..q]\n",
    "    n2 = r - q  # length of subarray A[q+1..r]\n",
    "    L = []\n",
    "    R = []\n",
    "\n",
    "    for i in range(n1):\n",
    "        L.append(A[p + i])  # copy subarray A[p..q] to L\n",
    "    for j in range(n2):\n",
    "        R.append(A[q + j + 1])  # copy subarray [q+1..r] into R\n",
    "    \n",
    "    # Put sentinels at the ends of L and R\n",
    "    L.append(float('inf'))\n",
    "    R.append(float('inf'))\n",
    "\n",
    "    i = 0\n",
    "    j = 0\n",
    "    for k in range (p, r + 1):\n",
    "        if L[i] <= R[j]:\n",
    "            A[k] = L[i]\n",
    "            i += 1\n",
    "        else:\n",
    "            A[k] = R[j]\n",
    "            j += 1\n",
    "\n",
    "def merge_sort(A, p, r):\n",
    "    if p < r:\n",
    "        q = ((p + q)//2)\n",
    "        merge_sort(A, p, q)\n",
    "        merge_sort(A, q+1, r)"
   ]
  }
 ]
}