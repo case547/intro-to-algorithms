{
 "metadata": {
  "language_info": {
   "codemirror_mode": {
    "name": "ipython",
    "version": 3
   },
   "file_extension": ".py",
   "mimetype": "text/x-python",
   "name": "python",
   "nbconvert_exporter": "python",
   "pygments_lexer": "ipython3",
   "version": "3.9.6"
  },
  "orig_nbformat": 4,
  "kernelspec": {
   "name": "python3",
   "display_name": "Python 3.9.6 64-bit"
  },
  "interpreter": {
   "hash": "bfbdfb0c43438f01dba741f70dc76621f92ff7363f8b2daf0c68e559af6ef8ac"
  }
 },
 "nbformat": 4,
 "nbformat_minor": 2,
 "cells": [
  {
   "cell_type": "markdown",
   "source": [
    "***2.3-1***<br>\r\n",
    "Using Figure 2.4 as a model, illustrate the operation of merge sort on the array _A_ = \\[3, 41, 52, 26, 38, 57, 9, 49\\]."
   ],
   "metadata": {}
  },
  {
   "cell_type": "code",
   "execution_count": 4,
   "source": [
    "def merge(A, p, q, r):\r\n",
    "    n1 = q - p + 1  # length of subarray A[p..q]\r\n",
    "    n2 = r - q  # length of subarray A[q+1..r]\r\n",
    "    L = []\r\n",
    "    R = []\r\n",
    "\r\n",
    "    for i in range(n1):\r\n",
    "        L.append(A[p + i])  # copy subarray A[p..q] to L\r\n",
    "    for j in range(n2):\r\n",
    "        R.append(A[q + j + 1])  # copy subarray [q+1..r] into R\r\n",
    "    \r\n",
    "    # Put sentinels at the ends of L and R\r\n",
    "    L.append(float('inf'))\r\n",
    "    R.append(float('inf'))\r\n",
    "\r\n",
    "    i = 0\r\n",
    "    j = 0\r\n",
    "    for k in range (p, r + 1):\r\n",
    "        if L[i] <= R[j]:\r\n",
    "            A[k] = L[i]\r\n",
    "            i += 1\r\n",
    "        else:\r\n",
    "            A[k] = R[j]\r\n",
    "            j += 1\r\n",
    "\r\n",
    "def merge_sort(A, p, r):\r\n",
    "    if p < r:\r\n",
    "        q = int((p + r - 1)/2)\r\n",
    "        merge_sort(A, p, q)\r\n",
    "        merge_sort(A, q+1, r)\r\n",
    "        merge(A, p, q, r)\r\n",
    "\r\n",
    "A = [3, 41, 52, 26, 38, 57, 9, 49]\r\n",
    "merge_sort(A, 0, len(A))\r\n",
    "print(A)"
   ],
   "outputs": [
    {
     "output_type": "stream",
     "name": "stdout",
     "text": [
      "[9, 26, 26, 26, 41, 41, 49, 57]\n"
     ]
    }
   ],
   "metadata": {}
  },
  {
   "cell_type": "markdown",
   "source": [
    "***2.3-2***<br>\r\n",
    "Rewrite the `MERGE` procedure so that it does not use sentinels, instead stopping once either array _L_ or _R_ has had all its elements copied back to _A_ and then copying the remainder of the other array back into _A_."
   ],
   "metadata": {}
  },
  {
   "cell_type": "code",
   "execution_count": null,
   "source": [
    "def merge(A, p, q, r):\r\n",
    "    L = A[p:q+1]\r\n",
    "    R = A[q+1:r+1]\r\n",
    "\r\n",
    "    i = 0, j = 0, k = p\r\n",
    "\r\n",
    "    while len(L) > i and len(R) > j:\r\n",
    "        if L[i] <= R[j]:\r\n",
    "            A[k] = L[i]\r\n",
    "            i += 1\r\n",
    "        else:\r\n",
    "            A[k] = R[j]\r\n",
    "            j += 1\r\n",
    "        \r\n",
    "        k += 1\r\n",
    "\r\n",
    "    # Copy remaining elements of L, if any\r\n",
    "    while len(L) > i:\r\n",
    "        A[k] = R[i]\r\n",
    "        i += 1\r\n",
    "        k += 1\r\n",
    "    \r\n",
    "    # Copy remaining elements of R, if any\r\n",
    "    while len(R) > j:\r\n",
    "        A[k] = R[j]\r\n",
    "        j += 1\r\n",
    "        k += 1"
   ],
   "outputs": [],
   "metadata": {}
  },
  {
   "cell_type": "markdown",
   "source": [
    "***2.3-3***<br>\r\n",
    "Use mathematical induction to show that when _n_ is an exact power of 2, the solution of the recurrence\r\n",
    "```\r\n",
    "T(n) = {\r\n",
    "    2            if n = 2,\r\n",
    "    2T(n/2) + n  if n = 2^k, for k>1\r\n",
    "}\r\n",
    "```\r\n",
    "is _T_(_n_) = _n_ lg _n_."
   ],
   "metadata": {}
  },
  {
   "cell_type": "markdown",
   "source": [
    "For n = 2<sup>1</sup> = 2:<br>\r\n",
    "Seeking to prove T(2) = 2 lg 2\r\n",
    "* LHS: T(2) = 2\r\n",
    "* RHS: 2 lg 2 = 2 x 1 = 2\r\n",
    "* LHS = RHS, therefore T(n) proven true for n = 2\r\n",
    "\r\n",
    "Assuming T(n) true for n = 2<sup>k</sup>, such that T(2<sup>k</sup>) = 2<sup>k</sup> lg 2<sup>k</sup> = k\\*2<sup>k</sup>\r\n",
    "\r\n",
    "For n = 2<sup>k+1</sup>:<br>\r\n",
    "Seeking to prove T(2<sup>k+1</sup>) = 2<sup>k+1</sup> lg 2<sup>k+1</sup>\r\n",
    "* LHS: T(2<sup>k+1</sup>) = 2T(2<sup>k+1</sup>/2) + 2<sup>k+1</sup> = 2T(2<sup>k</sup>) + 2<sup>k+1</sup> = 2(k\\*2<sup>k</sup>) + 2<sup>k+1</sup> = k\\*2<sup>k+1</sup> + 2<sup>k+1</sup> = 2<sup>k+1</sup>(k + 1)\r\n",
    "* RHS: 2<sup>k+1</sup> lg 2<sup>k+1</sup> = 2<sup>k+1</sup>(k+1)\r\n",
    "* LHS = RHS, therefore T(n) proven true for n = 2<sup>k+1</sup>, assuming true for 2<sup>k</sup>\r\n",
    "\r\n",
    "As T(2) and T(2<sup>k+1</sup>) have been proven true, assuming true for T(2<sup>k</sup>), T(n) has been proven true for all n = 2<sup>x</sup> (where x is an integer), by principle of mathematical induction"
   ],
   "metadata": {}
  },
  {
   "cell_type": "markdown",
   "source": [
    "***2.3-4***<br>\r\n",
    "We can express insertion sort as a recursive procedure as follows. In order to sort _A_\\[1.._n_\\], we recursively sort _A_\\[1.._n_-1\\] and then insert _A_\\[_n_\\] into the sorted array _A_\\[1.._n_-1\\]. Write a recurrence for the worst-case running time of this recursive version of insertion sort."
   ],
   "metadata": {}
  },
  {
   "cell_type": "code",
   "execution_count": null,
   "source": [
    "def recursive_insertion_sort(arr, n):\r\n",
    "    # Base case; array of size 1 already sorted\r\n",
    "    if n <= 1:\r\n",
    "        return\r\n",
    "\r\n",
    "    # Sort first n-1 elements\r\n",
    "    recursive_insertion_sort(arr, n-1)\r\n",
    "\r\n",
    "    # Insert last element into correct position in sorted array\r\n",
    "    key = arr[n-1]\r\n",
    "    pos = n - 2\r\n",
    "\r\n",
    "    # Move elements forward if greater than key\r\n",
    "    while pos >= 0 and arr[pos] > key:\r\n",
    "        arr[pos+1] = arr[pos]\r\n",
    "        pos -= 1\r\n",
    "\r\n",
    "    # Insert key value\r\n",
    "    arr[pos+1] = key"
   ],
   "outputs": [],
   "metadata": {}
  },
  {
   "cell_type": "markdown",
   "source": [
    "Beginning with the general reccurence for the running time of a divide-and-conquer algorithm, letting _T_(_n_) be the running time on a problem with size _n_.\r\n",
    "```\r\n",
    "T(n) = {\r\n",
    "    Θ(1)                    if n ≤ c ,\r\n",
    "    aT(n/b) + D(n) + C(n)   otherwise .\r\n",
    "}\r\n",
    "```\r\n",
    "Breaking down the running time a bit further:\r\n",
    "* __Divide:__ computes the `key` variable, which takes constant time. Therefore _D_(_n_) = Θ(1)\r\n",
    "* __Conquer:__ recursively solves just one subproblem of size n-1, contributing _T_(_n_-1) to the running time\r\n",
    "* __Combine:__ the insertion at worst case takes Θ(_n_)\r\n",
    "\r\n",
    "_D_(_n_) + _C_(_n_) is a linear function of _n_, i.e. Θ(_n_). Therefore the recurrence for the worst-case running time _T_(_n_) of this version of insertion sort is:\r\n",
    "```\r\n",
    "T(n) = {\r\n",
    "    Θ(1)            if n = 1 ,\r\n",
    "    T(n-1) + Θ(n)   if n > 1 .\r\n",
    "}\r\n",
    "```"
   ],
   "metadata": {}
  },
  {
   "cell_type": "markdown",
   "source": [
    "***2.3-5***<br>\r\n",
    "Referring back to the searching problem (see Exercise 2.1-3), observe that if the sequence _A_ is sorted, we can check the midpoint of the sequence against _v_ and eliminate half of the sequence from further consideration. The ***binary search*** algorithm repeats this procedure, halving the size of the remaining portion of the sequence each time. Write pseudocode, either iterative or recursive, for binary search. Argue that the worst-case running time of binary search is Θ(lg _n_)."
   ],
   "metadata": {}
  },
  {
   "cell_type": "markdown",
   "source": [
    "```\r\n",
    "iterative_binary_search(A, v, left, right)\r\n",
    "  while left <= right\r\n",
    "    mid = (left + right) // 2\r\n",
    "    \r\n",
    "    if v == A[mid]\r\n",
    "      return mid\r\n",
    "    elif v > A[mid]\r\n",
    "      left = mid+1\r\n",
    "    else\r\n",
    "      right = mid-1\r\n",
    "\r\n",
    "  return NIL\r\n",
    "\r\n",
    "\r\n",
    "recursive_binary_search(A, v, left, right)\r\n",
    "  if left > right\r\n",
    "    return NIL\r\n",
    "\r\n",
    "  mid = (left + right) // 2\r\n",
    "\r\n",
    "  if A[mid] == v\r\n",
    "    return mid\r\n",
    "  elif v > A[mid]\r\n",
    "    return binary_search(A, v, mid+1, right)\r\n",
    "  else\r\n",
    "    return binary_search(A, v, left, mid-1)\r\n",
    "```\r\n",
    "\r\n",
    "Each step halves n, i.e. n -> n/2 -> ... until n = 1 in the worst case. Assume this takes _k_ steps, such that n/2<sup>k</sup> = 1, n = 2<sup>k</sup>, and k = log<sub>2</sub>n = lg n. Therefore, the worst-case running time of binary search is Θ(lg _n_)."
   ],
   "metadata": {}
  },
  {
   "cell_type": "markdown",
   "source": [
    "***2.3-6***<br>\r\n",
    "Observe that the **while** loop of lines 5–7 of the `INSERTION-SORT` procedure in Section 2.1 uses a linear search to scan (backward) through the sorted subarray _A_\\[1.._j_-1\\]. Can we use a binary search (see Exercise 2.3-5) instead to improve the overall worst-case running time of insertion sort to Θ(_n_ lg _n_)?"
   ],
   "metadata": {}
  },
  {
   "cell_type": "code",
   "execution_count": 11,
   "source": [
    "def insertion_binary_search(arr, v, left, right):\r\n",
    "    if left == right:\r\n",
    "        if arr[left] > v:\r\n",
    "            return left\r\n",
    "        else:\r\n",
    "            return left+1\r\n",
    "\r\n",
    "    if left > right:\r\n",
    "        return left\r\n",
    "\r\n",
    "    mid = (left + right) // 2\r\n",
    "      \r\n",
    "    if arr[mid] == v:\r\n",
    "        return mid\r\n",
    "    elif arr[mid] > v:\r\n",
    "        return insertion_binary_search(arr, v, left, mid-1)\r\n",
    "    else:\r\n",
    "        return insertion_binary_search(arr, v, mid+1, right)\r\n",
    "\r\n",
    "def binary_insertion_sort(arr):\r\n",
    "    for j in range(1, len(arr)):  # starting with second index in array\r\n",
    "        key = arr[j]\r\n",
    "        i = insertion_binary_search(arr, key, 0, j-1)\r\n",
    "        arr.pop(j)\r\n",
    "        arr.insert(i, key)\r\n",
    "\r\n",
    "    return arr"
   ],
   "outputs": [],
   "metadata": {}
  },
  {
   "cell_type": "markdown",
   "source": [
    "With normal insertion sort, the worst case sees Θ(_n_) comparisons within each of the _n_ iterations for an over worst-case running time of Θ(_n_<sup>2</sup>). Using binary search, the running time for comparisons is reduced to Θ(lg _n_), hence improving the overall worst-case running time to Θ(_n_ lg _n_)."
   ],
   "metadata": {}
  }
 ]
}