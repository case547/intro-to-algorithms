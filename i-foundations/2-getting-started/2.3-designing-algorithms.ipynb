{
 "metadata": {
  "language_info": {
   "codemirror_mode": {
    "name": "ipython",
    "version": 3
   },
   "file_extension": ".py",
   "mimetype": "text/x-python",
   "name": "python",
   "nbconvert_exporter": "python",
   "pygments_lexer": "ipython3",
   "version": "3.9.6"
  },
  "orig_nbformat": 4,
  "kernelspec": {
   "name": "python3",
   "display_name": "Python 3.9.6 64-bit"
  },
  "interpreter": {
   "hash": "bfbdfb0c43438f01dba741f70dc76621f92ff7363f8b2daf0c68e559af6ef8ac"
  }
 },
 "nbformat": 4,
 "nbformat_minor": 2,
 "cells": [
  {
   "cell_type": "markdown",
   "source": [
    "***2.3-1***<br>\r\n",
    "Using Figure 2.4 as a model, illustrate the operation of merge sort on the array _A_ = \\[3, 41, 52, 26, 38, 57, 9, 49\\]."
   ],
   "metadata": {}
  },
  {
   "cell_type": "code",
   "execution_count": 4,
   "source": [
    "def merge(A, p, q, r):\r\n",
    "    n1 = q - p + 1  # length of subarray A[p..q]\r\n",
    "    n2 = r - q  # length of subarray A[q+1..r]\r\n",
    "    L = []\r\n",
    "    R = []\r\n",
    "\r\n",
    "    for i in range(n1):\r\n",
    "        L.append(A[p + i])  # copy subarray A[p..q] to L\r\n",
    "    for j in range(n2):\r\n",
    "        R.append(A[q + j + 1])  # copy subarray [q+1..r] into R\r\n",
    "    \r\n",
    "    # Put sentinels at the ends of L and R\r\n",
    "    L.append(float('inf'))\r\n",
    "    R.append(float('inf'))\r\n",
    "\r\n",
    "    i = 0\r\n",
    "    j = 0\r\n",
    "    for k in range (p, r + 1):\r\n",
    "        if L[i] <= R[j]:\r\n",
    "            A[k] = L[i]\r\n",
    "            i += 1\r\n",
    "        else:\r\n",
    "            A[k] = R[j]\r\n",
    "            j += 1\r\n",
    "\r\n",
    "def merge_sort(A, p, r):\r\n",
    "    if p < r:\r\n",
    "        q = int((p + r - 1)/2)\r\n",
    "        merge_sort(A, p, q)\r\n",
    "        merge_sort(A, q+1, r)\r\n",
    "        merge(A, p, q, r)\r\n",
    "\r\n",
    "A = [3, 41, 52, 26, 38, 57, 9, 49]\r\n",
    "merge_sort(A, 0, len(A))\r\n",
    "print(A)"
   ],
   "outputs": [
    {
     "output_type": "stream",
     "name": "stdout",
     "text": [
      "[9, 26, 26, 26, 41, 41, 49, 57]\n"
     ]
    }
   ],
   "metadata": {}
  },
  {
   "cell_type": "markdown",
   "source": [
    "***2.3-2***<br>\r\n",
    "Rewrite the `MERGE` procedure so that it does not use sentinels, instead stopping once either array _L_ or _R_ has had all its elements copied back to _A_ and then copying the remainder of the other array back into _A_."
   ],
   "metadata": {}
  },
  {
   "cell_type": "code",
   "execution_count": null,
   "source": [
    "def merge(A, p, q, r):\r\n",
    "    n1 = q - p + 1  # length of subarray A[p..q]\r\n",
    "    n2 = r - q  # length of subarray A[q+1..r]\r\n",
    "    L = []\r\n",
    "    R = []\r\n",
    "\r\n",
    "    for i in range(n1):\r\n",
    "        L.append(A[p + i - 1])  # copy subarray A[p..q] to L\r\n",
    "    for j in range(n2):\r\n",
    "        R.append(A[q + j])  # copy subarray [q+1..r] into R\r\n",
    "\r\n",
    "    i = 0\r\n",
    "    j = 0\r\n",
    "    k = p\r\n",
    "\r\n",
    "    while len(L) > i and len(R) > j:\r\n",
    "        if L[i] <= R[j]:\r\n",
    "            A[k] = L[i]\r\n",
    "            i += 1\r\n",
    "        else:\r\n",
    "            A[k] = R[j]\r\n",
    "            j += 1\r\n",
    "        \r\n",
    "        k += 1\r\n",
    "\r\n",
    "    while len(L) > i:\r\n",
    "        A[k] = R[i]\r\n",
    "        i += 1\r\n",
    "        k += 1\r\n",
    "    \r\n",
    "    while len(R) > j:\r\n",
    "        A[k] = R[j]\r\n",
    "        j += 1\r\n",
    "        k += 1"
   ],
   "outputs": [],
   "metadata": {}
  },
  {
   "cell_type": "markdown",
   "source": [
    "***2.3-3***<br>\r\n",
    "Use mathematical induction to show that when _n_ is an exact power of 2, the solution of the recurrence\r\n",
    "```\r\n",
    "T(n) = {\r\n",
    "    2            if n = 2,\r\n",
    "    2T(n/2) + n  if n = 2^k, for k>1\r\n",
    "}\r\n",
    "```\r\n",
    "is _T_(_n_) = _n_ lg _n_."
   ],
   "metadata": {}
  },
  {
   "cell_type": "markdown",
   "source": [
    "For n = 2<sup>1</sup> = 2:<br>\r\n",
    "Seeking to prove T(2) = 2 lg 2\r\n",
    "* LHS: T(2) = 2\r\n",
    "* RHS: 2 lg 2 = 2 x 1 = 2\r\n",
    "* LHS = RHS, therefore T(n) proven true for n = 2\r\n",
    "\r\n",
    "Assuming T(n) true for n = 2<sup>k</sup>, such that T(2<sup>k</sup>) = 2<sup>k</sup> lg 2<sup>k</sup> = k\\*2<sup>k</sup>\r\n",
    "\r\n",
    "For n = 2<sup>k+1</sup>:<br>\r\n",
    "Seeking to prove T(2<sup>k+1</sup>) = 2<sup>k+1</sup> lg 2<sup>k+1</sup>\r\n",
    "* LHS: T(2<sup>k+1</sup>) = 2T(2<sup>k+1</sup>/2) + 2<sup>k+1</sup> = 2T(2<sup>k</sup>) + 2<sup>k+1</sup> = 2(k\\*2<sup>k</sup>) + 2<sup>k+1</sup> = k\\*2<sup>k+1</sup> + 2<sup>k+1</sup> = 2<sup>k+1</sup>(k + 1)\r\n",
    "* RHS: 2<sup>k+1</sup> lg 2<sup>k+1</sup> = 2<sup>k+1</sup>(k+1)\r\n",
    "* LHS = RHS, therefore T(n) proven true for n = 2<sup>k+1</sup>, assuming true for 2<sup>k</sup>\r\n",
    "\r\n",
    "As T(2) and T(2<sup>k+1</sup>) have been proven true, assuming true for T(2<sup>k</sup>), T(n) has been proven true for all n = 2<sup>x</sup> (where x is an integer), by principle of mathematical induction"
   ],
   "metadata": {}
  }
 ]
}