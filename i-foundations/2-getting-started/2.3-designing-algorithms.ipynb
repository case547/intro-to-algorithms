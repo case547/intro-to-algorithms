{
 "metadata": {
  "language_info": {
   "codemirror_mode": {
    "name": "ipython",
    "version": 3
   },
   "file_extension": ".py",
   "mimetype": "text/x-python",
   "name": "python",
   "nbconvert_exporter": "python",
   "pygments_lexer": "ipython3",
   "version": 3
  },
  "orig_nbformat": 4
 },
 "nbformat": 4,
 "nbformat_minor": 2,
 "cells": [
  {
   "cell_type": "code",
   "execution_count": null,
   "metadata": {},
   "outputs": [],
   "source": [
    "def merge(A, p, q, r):\n",
    "    n1 = q - p + 1\n",
    "    n2 = r - q\n",
    "    L = []\n",
    "    R = []\n",
    "\n",
    "    for i in range(n1):\n",
    "        L.append(A[p + i])\n",
    "    for j in range(n2):\n",
    "        R.append(A[q + j + 1])\n",
    "    \n",
    "    L.append(float('inf'))\n",
    "    R.append(float('inf'))\n",
    "\n",
    "    i = 0\n",
    "    j = 0\n",
    "    for k in range (p, r + 1):\n",
    "        if L[i] <= R[j]:\n",
    "            A[k] = L[i]\n",
    "            i += 1\n",
    "        else:\n",
    "            A[k] = R[j]\n",
    "            j += 1"
   ]
  }
 ]
}