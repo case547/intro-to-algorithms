{
 "metadata": {
  "language_info": {
   "codemirror_mode": {
    "name": "ipython",
    "version": 3
   },
   "file_extension": ".py",
   "mimetype": "text/x-python",
   "name": "python",
   "nbconvert_exporter": "python",
   "pygments_lexer": "ipython3",
   "version": 3
  },
  "orig_nbformat": 4
 },
 "nbformat": 4,
 "nbformat_minor": 2,
 "cells": [
  {
   "cell_type": "code",
   "execution_count": null,
   "source": [
    "def merge(A, p, q, r):\r\n",
    "    n1 = q - p + 1  # length of subarray A[p..q]\r\n",
    "    n2 = r - q  # length of subarray A[q+1..r]\r\n",
    "    L = []\r\n",
    "    R = []\r\n",
    "\r\n",
    "    for i in range(n1):\r\n",
    "        L.append(A[p + i])  # copy subarray A[p..q] to L\r\n",
    "    for j in range(n2):\r\n",
    "        R.append(A[q + j + 1])  # copy subarray [q+1..r] into R\r\n",
    "    \r\n",
    "    # Put sentinels at the ends of L and R\r\n",
    "    L.append(float('inf'))\r\n",
    "    R.append(float('inf'))\r\n",
    "\r\n",
    "    i = 0\r\n",
    "    j = 0\r\n",
    "    for k in range (p, r + 1):\r\n",
    "        if L[i] <= R[j]:\r\n",
    "            A[k] = L[i]\r\n",
    "            i += 1\r\n",
    "        else:\r\n",
    "            A[k] = R[j]\r\n",
    "            j += 1\r\n",
    "\r\n",
    "def merge_sort(A, p, r):\r\n",
    "    if p < r:\r\n",
    "        q = int((p + r)/2)\r\n",
    "        merge_sort(A, p, q)\r\n",
    "        merge_sort(A, q+1, r)"
   ],
   "outputs": [],
   "metadata": {}
  }
 ]
}