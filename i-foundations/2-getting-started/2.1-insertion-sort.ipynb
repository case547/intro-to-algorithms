{
 "metadata": {
  "language_info": {
   "codemirror_mode": {
    "name": "ipython",
    "version": 3
   },
   "file_extension": ".py",
   "mimetype": "text/x-python",
   "name": "python",
   "nbconvert_exporter": "python",
   "pygments_lexer": "ipython3",
   "version": "3.8.5"
  },
  "orig_nbformat": 4,
  "kernelspec": {
   "name": "python3",
   "display_name": "Python 3.8.5 64-bit ('base': conda)"
  },
  "interpreter": {
   "hash": "ff39433d367775670857b5a26fe0f62904f7bab0aa1764437f86463c08ac313f"
  }
 },
 "nbformat": 4,
 "nbformat_minor": 2,
 "cells": [
  {
   "source": [
    "***2.1-1*** Illustrate the operation of `Insertion-Sort` [31,41,59,26,41,58\\]"
   ],
   "cell_type": "markdown",
   "metadata": {}
  },
  {
   "cell_type": "code",
   "execution_count": 1,
   "metadata": {},
   "outputs": [],
   "source": [
    "def insertion_sort(arr):\n",
    "    for j in range(1, len(arr)):  # starting with second index in array\n",
    "        key = arr[j]\n",
    "        i = j - 1\n",
    "\n",
    "        # Insert arr[j] into sorted sequence arr[0..j-1]\n",
    "        while i >= 0 and arr[i] > key:\n",
    "            arr[i+1] = arr[i]   # move arr[i] value one space to the right\n",
    "            i -= 1  # repeat while arr[j] < preceeding values\n",
    "\n",
    "        arr[i+1] = key  # insert arr[j] in position\n",
    "\n",
    "    return arr"
   ]
  },
  {
   "cell_type": "code",
   "execution_count": 2,
   "metadata": {},
   "outputs": [
    {
     "output_type": "execute_result",
     "data": {
      "text/plain": [
       "[26, 31, 41, 41, 58, 59]"
      ]
     },
     "metadata": {},
     "execution_count": 2
    }
   ],
   "source": [
    "insertion_sort([31,41,59,26,41,58])"
   ]
  },
  {
   "source": [
    "***2.1-2*** Rewrite the `Insertion-Sort` procedure to sort into nonincreasing instead of nondecreasing order"
   ],
   "cell_type": "markdown",
   "metadata": {}
  },
  {
   "cell_type": "code",
   "execution_count": 4,
   "metadata": {},
   "outputs": [],
   "source": [
    "def insertion_sort_downward(arr):\n",
    "    for j in range(1, len(arr)):  # starting with second index in array\n",
    "        key = arr[j]\n",
    "        i = j - 1\n",
    "\n",
    "        # Insert arr[j] into sorted sequence arr[0..j-1]\n",
    "        while i >= 0 and arr[i] < key:\n",
    "            arr[i+1] = arr[i]   # move arr[i] value one space to the right\n",
    "            i -= 1  # repeat while arr[j] < preceeding values\n",
    "\n",
    "        arr[i+1] = key  # insert arr[j] in position\n",
    "\n",
    "    return arr"
   ]
  },
  {
   "cell_type": "code",
   "execution_count": 5,
   "metadata": {},
   "outputs": [
    {
     "output_type": "execute_result",
     "data": {
      "text/plain": [
       "[59, 58, 41, 41, 31, 26]"
      ]
     },
     "metadata": {},
     "execution_count": 5
    }
   ],
   "source": [
    "insertion_sort_downward([31,41,59,26,41,58])"
   ]
  },
  {
   "source": [
    "***2.1-3*** Consider the searching problem:\n",
    "* **Input:** A sequence of _n_ numbers _A_ = {*a*<sub>1</sub>, *a*<sub>2</sub>, ..., *a*<sub>n</sub>} and a value _v_.\n",
    "* **Output:** An index _i_ such that _v_ = _A_\\[_i_\\] or the special value `NIL` if does not appear in _A_.\n",
    "\n",
    "Write pseudocode for ***linear search***, which scans through the sequence, looking for _v_. Using a loop invariant, prove that your algorithm is correct. Make sure that your loop invariant fulfills the three necessary properties."
   ],
   "cell_type": "markdown",
   "metadata": {}
  },
  {
   "source": [
    "    for i = 0 to n\n",
    "      if A[i] == v\n",
    "        return i\n",
    "    return NIL\n",
    "\n",
    "* **Initialisation:** Starting by showing loop invariant holds before the first iteration, when _i_ = 0. Subarray _A_\\[0.._i_\\] therefore consists of just the single element _A_\\[0\\]. This subarray is checked against _v_, showing the loop invariant holds prior to first iteration.\n",
    "* **Maintenance:** Showing each iteration maintains loop variant. The **for** loop works by moving a pointer one position to the right until it finds _v_ (or reaches end of the sequence). All the while, subarray _A_\\[0.._i_\\] consists of checked elements. Incrementing _i_ for the next iteration then preserves the loop invariant.\n",
    "* **Termination:** Either _v_ is found or _i_ = _n_. Substituting _n_ for _i_ in the loop invariant wording, we have subarray _A_\\[0.._n-1_\\] with all elements checked. This also being entire array, it can be concluded that the entire array is checked. Thus, the algorithm is correct. "
   ],
   "cell_type": "markdown",
   "metadata": {}
  }
 ]
}