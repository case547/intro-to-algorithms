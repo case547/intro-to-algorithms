{
 "cells": [
  {
   "cell_type": "markdown",
   "source": [
    "***2-4 Inversions***<br>\r\n",
    "Let *A*[1...n] be an array of *n* distinct numbers. If *i* < *j* and *A*[*i*] > *A*[*j*], then the pair (*i*, *j*) is called an *inversion* of *A*."
   ],
   "metadata": {}
  },
  {
   "cell_type": "markdown",
   "source": [
    "***a.*** List the five inversions of the array [2, 3, 8, 6, 1]."
   ],
   "metadata": {}
  },
  {
   "cell_type": "markdown",
   "source": [
    "* (1,5), (2,5), (3,4), (3,5), (4,5)"
   ],
   "metadata": {}
  },
  {
   "cell_type": "markdown",
   "source": [
    "***b.*** What array with the elements from the set {1, 2, ..., *n*} have the most inversion? How many does it have?"
   ],
   "metadata": {}
  },
  {
   "cell_type": "markdown",
   "source": [
    "* [n, ..., 1]\r\n",
    "* (n/2)*(1+n) = (n<sup>2</sup>+n)/2"
   ],
   "metadata": {}
  },
  {
   "cell_type": "markdown",
   "source": [
    "***c.*** What is the relationship between running time of insertion sort and the number of inversions in the input array? Justify your answer."
   ],
   "metadata": {}
  },
  {
   "cell_type": "markdown",
   "source": [
    "* Running time would be proportional to the number of inversions\r\n",
    "* The while loop's condition is if the pair of numbers in question is an inversion, i.e. every iteration of the loop represents the righting of an inversion"
   ],
   "metadata": {}
  },
  {
   "cell_type": "markdown",
   "source": [
    "***d.*** Give an algorithm that determines the number of inversions in any permutation on elements in Θ(*n* lg *n*) worst-case time. (*Hint:* Modify merge sort.)"
   ],
   "metadata": {}
  },
  {
   "cell_type": "code",
   "execution_count": null,
   "source": [
    "def add_inversion(arr, start, mid, end):\r\n",
    "    left = arr[start:mid+1]\r\n",
    "    right = arr[mid+1:end+1]\r\n",
    "\r\n",
    "    i = 0, j = 0, k = start\r\n",
    "\r\n",
    "    while len(left) > i and len(right) > j:\r\n",
    "        if left[i] <= right[j]:\r\n",
    "            arr[k] = left[i]\r\n",
    "            i += 1\r\n",
    "        else:\r\n",
    "            arr[k] = right[j]\r\n",
    "            j += 1\r\n",
    "\r\n",
    "        k += 1\r\n",
    "    "
   ],
   "outputs": [],
   "metadata": {}
  }
 ],
 "metadata": {
  "orig_nbformat": 4,
  "language_info": {
   "name": "python"
  }
 },
 "nbformat": 4,
 "nbformat_minor": 2
}