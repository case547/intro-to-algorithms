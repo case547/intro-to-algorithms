{
 "cells": [
  {
   "cell_type": "markdown",
   "source": [
    "***2-4 Inversions***<br>\r\n",
    "Let *A*[1...n] be an array of *n* distinct numbers. If *i* < *j* and *A*[*i*] > *A*[*j*], then the pair (*i*, *j*) is called an *inversion* of *A*."
   ],
   "metadata": {}
  },
  {
   "cell_type": "markdown",
   "source": [
    "***a.*** List the five inversions of the array [2, 3, 8, 6, 1]."
   ],
   "metadata": {}
  },
  {
   "cell_type": "markdown",
   "source": [
    "* (1,5), (2,5), (3,4), (3,5), (4,5)"
   ],
   "metadata": {}
  },
  {
   "cell_type": "markdown",
   "source": [
    "***b.*** What array with the elements from the set {1, 2, ..., *n*} have the most inversion? How many does it have?"
   ],
   "metadata": {}
  },
  {
   "cell_type": "markdown",
   "source": [
    "* [n, ..., 1]\r\n",
    "* (n/2)*(1+n) = (n<sup>2</sup>+n)/2"
   ],
   "metadata": {}
  },
  {
   "cell_type": "markdown",
   "source": [
    "***c.*** What is the relationship between running time of insertion sort and the number of inversions in the input array? Justify your answer."
   ],
   "metadata": {}
  },
  {
   "cell_type": "markdown",
   "source": [
    "* Running time would be proportional to the number of inversions\r\n",
    "* The while loop's condition is if the pair of numbers in question is an inversion, i.e. every iteration of the loop represents the righting of an inversion"
   ],
   "metadata": {}
  },
  {
   "cell_type": "markdown",
   "source": [
    "***d.*** Give an algorithm that determines the number of inversions in any permutation on elements in Θ(*n* lg *n*) worst-case time. (*Hint:* Modify merge sort.)"
   ],
   "metadata": {}
  },
  {
   "cell_type": "code",
   "execution_count": 2,
   "source": [
    "inversions = 0\r\n",
    "\r\n",
    "def add_inversion(arr, start, mid, end):\r\n",
    "    global inversions\r\n",
    "    left = arr[start:mid+1]\r\n",
    "    right = arr[mid+1:end+1]\r\n",
    "\r\n",
    "    i = 0\r\n",
    "    j = 0\r\n",
    "    k = start\r\n",
    "\r\n",
    "    while len(left) > i and len(right) > j:\r\n",
    "        if left[i] <= right[j]:\r\n",
    "            i += 1\r\n",
    "        else:\r\n",
    "            j += 1\r\n",
    "            inversions += 1\r\n",
    "\r\n",
    "        k += 1\r\n",
    "    \r\n",
    "def count_inversions(arr, start, end):\r\n",
    "    global inversions\r\n",
    "    if start < end:\r\n",
    "        mid = (start + end - 1)//2\r\n",
    "        count_inversions(arr, start, mid)\r\n",
    "        count_inversions(arr, mid+1, end)\r\n",
    "        add_inversion(arr, start, mid, end)\r\n",
    "\r\n",
    "A = [2, 3, 8, 6, 1]\r\n",
    "count_inversions(A, 0, len(A))\r\n",
    "print(inversions)"
   ],
   "outputs": [
    {
     "output_type": "stream",
     "name": "stdout",
     "text": [
      "3\n"
     ]
    }
   ],
   "metadata": {}
  }
 ],
 "metadata": {
  "orig_nbformat": 4,
  "language_info": {
   "name": "python",
   "version": "3.9.6",
   "mimetype": "text/x-python",
   "codemirror_mode": {
    "name": "ipython",
    "version": 3
   },
   "pygments_lexer": "ipython3",
   "nbconvert_exporter": "python",
   "file_extension": ".py"
  },
  "kernelspec": {
   "name": "python3",
   "display_name": "Python 3.9.6 64-bit"
  },
  "interpreter": {
   "hash": "bfbdfb0c43438f01dba741f70dc76621f92ff7363f8b2daf0c68e559af6ef8ac"
  }
 },
 "nbformat": 4,
 "nbformat_minor": 2
}