{
 "metadata": {
  "language_info": {
   "codemirror_mode": {
    "name": "ipython",
    "version": 3
   },
   "file_extension": ".py",
   "mimetype": "text/x-python",
   "name": "python",
   "nbconvert_exporter": "python",
   "pygments_lexer": "ipython3",
   "version": 3
  },
  "orig_nbformat": 4
 },
 "nbformat": 4,
 "nbformat_minor": 2,
 "cells": [
  {
   "source": [
    "***2.2-1*** Express the function _n_<sup>3</sup>/1000 – 100_n_<sup>2</sup> – 100_n_ + 3 in terms of Θ-notation"
   ],
   "cell_type": "markdown",
   "metadata": {}
  },
  {
   "source": [
    "Only leading term considered, therefore the function has a running time of Θ(_n_<sup>3</sup>)"
   ],
   "cell_type": "markdown",
   "metadata": {}
  },
  {
   "source": [
    "***2.2-2*** Consider sorting _n_ numbers stored in array _A_ by first finding the smallest element of _A_ and exchanging it with the element in _A_\\[1\\]. Then find the second smallest element of A, and exchange it with _A_\\[2\\]. Continue in this manner for the first _n_ – 1 elements of _A_. Write pseudocode for this algorithm, which is known as ***selection sort***. What loop invariant does this algorithm maintain? Why does it need to run for only the first _n_ – 1 elements, rather than for all _n_ elements? Give the best-case\n",
    "and worst-case running times of selection sort in Θ-notation."
   ],
   "cell_type": "markdown",
   "metadata": {}
  },
  {
   "source": [
    "    for i = 1 to n - 1\n",
    "        smallest = A[i]\n",
    "        \n",
    "        for j = i + 1 to n\n",
    "            if A[j] < smallest\n",
    "                smallest = A[j]\n",
    "        \n",
    "        exchange smallest with A[i]\n",
    "\n",
    "This algorithm maintains a loop invariant that before each iteration of the outer for loop, there is a subarray _A_\\[1..i-1] that consists of the sorted smallest elements.\n",
    "\n",
    "It only needs to run for the first _n_ - 1 elements as after these have been sorted, there would remain one element _A_\\[_n_\\] that must be the largest element.\n",
    "\n",
    "Θ(_n_<sup>2</sup>) for both best- and worst-case."
   ],
   "cell_type": "markdown",
   "metadata": {}
  }
 ]
}