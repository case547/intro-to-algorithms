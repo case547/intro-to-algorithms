{
 "metadata": {
  "language_info": {
   "codemirror_mode": {
    "name": "ipython",
    "version": 3
   },
   "file_extension": ".py",
   "mimetype": "text/x-python",
   "name": "python",
   "nbconvert_exporter": "python",
   "pygments_lexer": "ipython3",
   "version": 3
  },
  "orig_nbformat": 4
 },
 "nbformat": 4,
 "nbformat_minor": 2,
 "cells": [
  {
   "cell_type": "markdown",
   "source": [
    "***2.2-1***<br>\r\n",
    "Express the function _n_<sup>3</sup>/1000 – 100*n*<sup>2</sup> – 100*n* + 3 in terms of Θ-notation"
   ],
   "metadata": {}
  },
  {
   "cell_type": "markdown",
   "source": [
    "Only leading term considered, therefore the function has a running time of Θ(_n_<sup>3</sup>)"
   ],
   "metadata": {}
  },
  {
   "cell_type": "markdown",
   "source": [
    "***2.2-2***<br>\n",
    "Consider sorting _n_ numbers stored in array _A_ by first finding the smallest element of _A_ and exchanging it with the element in _A_\\[1\\]. Then find the second smallest element of A, and exchange it with _A_\\[2\\]. Continue in this manner for the first _n_ – 1 elements of _A_. Write pseudocode for this algorithm, which is known as ***selection sort***. What loop invariant does this algorithm maintain? Why does it need to run for only the first _n_ – 1 elements, rather than for all _n_ elements? Give the best-case\n",
    "and worst-case running times of selection sort in Θ-notation."
   ],
   "metadata": {}
  },
  {
   "cell_type": "markdown",
   "source": [
    "```\r\n",
    "for i = 1 to n - 1\r\n",
    "    smallest = A[i]\r\n",
    "    \r\n",
    "    for j = i + 1 to n\r\n",
    "        if A[j] < smallest\r\n",
    "            smallest = A[j]\r\n",
    "    \r\n",
    "    exchange smallest with A[i]\r\n",
    "```\r\n",
    "\r\n",
    "This algorithm maintains a loop invariant that before each iteration of the outer for loop, there is a subarray _A_\\[1..i-1] that consists of the sorted smallest elements.\r\n",
    "\r\n",
    "It only needs to run for the first _n_ - 1 elements as after these have been sorted, there would remain one element _A_\\[_n_\\] that must be the largest element.\r\n",
    "\r\n",
    "Θ(_n_<sup>2</sup>) for both best- and worst-case."
   ],
   "metadata": {}
  },
  {
   "cell_type": "markdown",
   "source": [
    "***2.2-3***<br>\n",
    "Consider linear search again (see Exercise 2.1-3). How many elements of the input sequence need to be checked on the average, assuming that the element being searched for is equally likely to be any element in the array? How about in the worst case? What are the average-case and worst-case running times of linear search in Θ-notation? Justify your answers."
   ],
   "metadata": {}
  },
  {
   "cell_type": "markdown",
   "source": [
    "On average, _n_/2 elements need to be checked.\n",
    "\n",
    "In the worst case, all _n_ elements need to be checked.\n",
    "\n",
    "Θ(_n_) for both cases, as both leading terms are in the order of _n_."
   ],
   "metadata": {}
  },
  {
   "cell_type": "markdown",
   "source": [
    "***2.2-4***<br>\n",
    "How can we modify almost any algorithm to have a good best-case running time?"
   ],
   "metadata": {}
  },
  {
   "cell_type": "markdown",
   "source": [
    "Modify it so that it tests for some special case, upon which return a pre-defined output."
   ],
   "metadata": {}
  }
 ]
}