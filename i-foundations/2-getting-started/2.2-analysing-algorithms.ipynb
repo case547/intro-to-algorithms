{
 "metadata": {
  "language_info": {
   "codemirror_mode": {
    "name": "ipython",
    "version": 3
   },
   "file_extension": ".py",
   "mimetype": "text/x-python",
   "name": "python",
   "nbconvert_exporter": "python",
   "pygments_lexer": "ipython3",
   "version": 3
  },
  "orig_nbformat": 4
 },
 "nbformat": 4,
 "nbformat_minor": 2,
 "cells": [
  {
   "source": [
    "***2.2-1*** Express the function _n_<sup>3</sup>/1000 – 100_n_<sup>2</sup> – 100_n_ + 3 in terms of Θ-notation"
   ],
   "cell_type": "markdown",
   "metadata": {}
  },
  {
   "source": [
    "Only leading term considered, therefore the function has a running time of Θ(_n_<sup>3</sup>)"
   ],
   "cell_type": "markdown",
   "metadata": {}
  }
 ]
}