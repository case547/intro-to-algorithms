{
 "cells": [
  {
   "cell_type": "code",
   "execution_count": 32,
   "source": [
    "class Stack:\r\n",
    "    # Implemented as close to examples as can be, commented code is the more Pythonic way\r\n",
    "\r\n",
    "    def __init__(self, max):\r\n",
    "        self.elements = [None] * max\r\n",
    "        self.top = 0\r\n",
    "        # Most Pythonic: not have max arg or top attr; self.elements = []\r\n",
    "\r\n",
    "    def stack_empty(self):\r\n",
    "        return self.top == 0\r\n",
    "        # return self.elements == 0\r\n",
    "\r\n",
    "    def push(self, x):\r\n",
    "        self.elements[self.top] = x\r\n",
    "        self.top += 1\r\n",
    "        # self.items.append(x)\r\n",
    "        \r\n",
    "    def pop(self):\r\n",
    "        if self.stack_empty():\r\n",
    "            raise Exception(\"Underflow error.\")\r\n",
    "        else:\r\n",
    "            self.top -= 1\r\n",
    "            return self.elements[self.top + 1]\r\n",
    "        # return self.elements.pop()"
   ],
   "outputs": [],
   "metadata": {}
  },
  {
   "cell_type": "code",
   "execution_count": 33,
   "source": [
    "class Queue:\r\n",
    "    # Once again not the best Python implementation; use queue.Queue or collections.Deque\r\n",
    "    \r\n",
    "    def __init__(self, length):\r\n",
    "        self.elements = [None] * length\r\n",
    "        self.head = 0\r\n",
    "        self.tail = 0\r\n",
    "        self.length = length\r\n",
    "\r\n",
    "    def enqueue(self, x):\r\n",
    "        self[self.tail] = x\r\n",
    "\r\n",
    "        if self.tail == self.length:\r\n",
    "            self.tail == 0\r\n",
    "        else:\r\n",
    "            self.tail += 1\r\n",
    "    \r\n",
    "    def dequeue(self):\r\n",
    "        x = self[self.head]\r\n",
    "\r\n",
    "        if self.head == self.length:\r\n",
    "            self.head = 0\r\n",
    "        else:\r\n",
    "            self.head += 1\r\n",
    "\r\n",
    "        return x"
   ],
   "outputs": [],
   "metadata": {}
  },
  {
   "cell_type": "markdown",
   "source": [
    "***10.1-1***<br>\r\n",
    "Using Figure 10.1 as a model, illustrate the result of each operation in the sequence `PUSH`(_S_, 4), `PUSH`(_S_, 1), `PUSH`(_S_, 3), `POP`(_S_), `PUSH`(_S_, 4), and `POP`(_S_) on an initially empty stack _S_ stored in array _S_\\[1..6\\]."
   ],
   "metadata": {}
  },
  {
   "cell_type": "code",
   "execution_count": 35,
   "source": [
    "s = Stack(5)\r\n",
    "print(s.elements)\r\n",
    "s.push(4)\r\n",
    "print(s.elements)\r\n",
    "s.push(1)\r\n",
    "print(s.elements)\r\n",
    "s.push(3)\r\n",
    "print(s.elements)\r\n",
    "s.pop()\r\n",
    "print(s.elements)\r\n",
    "s.push(8)\r\n",
    "print(s.elements)\r\n",
    "s.pop()"
   ],
   "outputs": [
    {
     "output_type": "stream",
     "name": "stdout",
     "text": [
      "[None, None, None, None, None]\n",
      "[4, None, None, None, None]\n",
      "[4, 1, None, None, None]\n",
      "[4, 1, 3, None, None]\n",
      "[4, 1, 3, None, None]\n",
      "[4, 1, 8, None, None]\n"
     ]
    }
   ],
   "metadata": {}
  }
 ],
 "metadata": {
  "orig_nbformat": 4,
  "language_info": {
   "name": "python",
   "version": "3.8.5",
   "mimetype": "text/x-python",
   "codemirror_mode": {
    "name": "ipython",
    "version": 3
   },
   "pygments_lexer": "ipython3",
   "nbconvert_exporter": "python",
   "file_extension": ".py"
  },
  "kernelspec": {
   "name": "python3",
   "display_name": "Python 3.8.5 64-bit ('base': conda)"
  },
  "interpreter": {
   "hash": "ff39433d367775670857b5a26fe0f62904f7bab0aa1764437f86463c08ac313f"
  }
 },
 "nbformat": 4,
 "nbformat_minor": 2
}