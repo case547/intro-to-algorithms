{
 "cells": [
  {
   "cell_type": "code",
   "execution_count": 36,
   "source": [
    "class Stack:\r\n",
    "    # Implemented as close to examples as can be, commented code is the more Pythonic way\r\n",
    "\r\n",
    "    def __init__(self, max):\r\n",
    "        self.elements = [None] * max\r\n",
    "        self.top = 0\r\n",
    "        # Most Pythonic: not have max arg or top attr; self.elements = []\r\n",
    "\r\n",
    "# More Pythonic: make below functions methods of class\r\n",
    "\r\n",
    "def stack_empty(S):\r\n",
    "    return S.top == 0\r\n",
    "    # return S.elements == 0\r\n",
    "\r\n",
    "def push(S, x):\r\n",
    "    S.elements[S.top] = x\r\n",
    "    S.top += 1\r\n",
    "    # S.items.append(x)\r\n",
    "    \r\n",
    "def pop(S):\r\n",
    "    if stack_empty(S):\r\n",
    "        raise Exception(\"Underflow error.\")\r\n",
    "    else:\r\n",
    "        S.top -= 1\r\n",
    "        print(S.elements)\r\n",
    "        return S.elements[S.top + 1]\r\n",
    "    # return S.elements.pop()"
   ],
   "outputs": [],
   "metadata": {}
  },
  {
   "cell_type": "code",
   "execution_count": 37,
   "source": [
    "class Queue:\r\n",
    "    # Once again not the best Python implementation; use queue.Queue or collections.Deque\r\n",
    "    \r\n",
    "    def __init__(self, length):\r\n",
    "        self.elements = [None] * length\r\n",
    "        self.head = 0\r\n",
    "        self.tail = 0\r\n",
    "        self.length = length\r\n",
    "\r\n",
    "# More Pythonic: make below functions methods of class\r\n",
    "\r\n",
    "def enqueue(Q, x):\r\n",
    "    Q.elements[Q.tail] = x\r\n",
    "\r\n",
    "    if Q.tail == Q.length:\r\n",
    "        Q.tail == 0\r\n",
    "    else:\r\n",
    "        Q.tail += 1\r\n",
    "\r\n",
    "def dequeue(Q):\r\n",
    "    x = Q.elements[Q.head]\r\n",
    "    Q.elements[Q.head] = None\r\n",
    "\r\n",
    "    if Q.head == Q.length:\r\n",
    "        Q.head = 0\r\n",
    "    else:\r\n",
    "        Q.head += 1\r\n",
    "\r\n",
    "    return x"
   ],
   "outputs": [],
   "metadata": {}
  },
  {
   "cell_type": "markdown",
   "source": [
    "***10.1-1***<br>\r\n",
    "Using Figure 10.1 as a model, illustrate the result of each operation in the sequence `PUSH`(_S_, 4), `PUSH`(_S_, 1), `PUSH`(_S_, 3), `POP`(_S_), `PUSH`(_S_, 4), and `POP`(_S_) on an initially empty stack _S_ stored in array _S_\\[1..6\\]."
   ],
   "metadata": {}
  },
  {
   "cell_type": "code",
   "execution_count": 38,
   "source": [
    "S = Stack(6)\r\n",
    "print(S.elements)\r\n",
    "push(S, 4)\r\n",
    "print(S.elements)\r\n",
    "push(S, 1)\r\n",
    "print(S.elements)\r\n",
    "push(S, 3)\r\n",
    "print(S.elements)\r\n",
    "pop(S)\r\n",
    "print(S.elements)\r\n",
    "push(S, 8)\r\n",
    "print(S.elements)\r\n",
    "pop(S)"
   ],
   "outputs": [
    {
     "output_type": "stream",
     "name": "stdout",
     "text": [
      "[None, None, None, None, None, None]\n",
      "[4, None, None, None, None, None]\n",
      "[4, 1, None, None, None, None]\n",
      "[4, 1, 3, None, None, None]\n",
      "[4, 1, 3, None, None, None]\n",
      "[4, 1, 3, None, None, None]\n",
      "[4, 1, 8, None, None, None]\n",
      "[4, 1, 8, None, None, None]\n"
     ]
    }
   ],
   "metadata": {}
  },
  {
   "cell_type": "markdown",
   "source": [
    "***10.1-2***<br>\r\n",
    "Explain how to implement two stacks in one array _A_\\[1.._n_\\] in such a way that neither stack overflows unless the total number of elements in both stacks together is _n_. The `PUSH` and `POP` operations should run in _O_(1) time."
   ],
   "metadata": {}
  },
  {
   "cell_type": "markdown",
   "source": [
    "Begin each stack at opposite ends of the array, beginning at indexes 1 and _n_, and converging somewhere in between. The `top` indexes for both stacks will need to be tracked and checked for equality (if s1.top == s2.top, raise overflow error)."
   ],
   "metadata": {}
  },
  {
   "cell_type": "markdown",
   "source": [
    "***10.1-3***\r\n",
    "Using Figure 10.2 as a model, illustrate the result of each operation in the sequence `ENQUEUE`(_Q_, 4), `ENQUEUE`(_Q_, 1), `ENQUEUE`(_Q_, 3), `DEQUEUE`(_Q_), `ENQUEUE`(_Q_, 8), and `DEQUEUE`(_Q_) on an initially empty queue _Q_ stored in array _Q_\\[1..6\\]."
   ],
   "metadata": {}
  },
  {
   "cell_type": "code",
   "execution_count": 39,
   "source": [
    "Q = Queue(6)\r\n",
    "print(Q.elements)\r\n",
    "enqueue(Q, 4)\r\n",
    "print(Q.elements)\r\n",
    "enqueue(Q, 1)\r\n",
    "print(Q.elements)\r\n",
    "enqueue(Q, 3)\r\n",
    "print(Q.elements)\r\n",
    "dequeue(Q)\r\n",
    "print(Q.elements)\r\n",
    "enqueue(Q, 8)\r\n",
    "print(Q.elements)\r\n",
    "dequeue(Q)\r\n",
    "print(Q.elements)"
   ],
   "outputs": [
    {
     "output_type": "stream",
     "name": "stdout",
     "text": [
      "[None, None, None, None, None, None]\n",
      "[4, None, None, None, None, None]\n",
      "[4, 1, None, None, None, None]\n",
      "[4, 1, 3, None, None, None]\n",
      "[None, 1, 3, None, None, None]\n",
      "[None, 1, 3, 8, None, None]\n",
      "[None, None, 3, 8, None, None]\n"
     ]
    }
   ],
   "metadata": {}
  },
  {
   "cell_type": "markdown",
   "source": [
    "***10.1-4***<br>\r\n",
    "Rewrite `ENQUEUE` and `DEQUEUE` to detect underflow and overflow of a queue."
   ],
   "metadata": {}
  },
  {
   "cell_type": "code",
   "execution_count": 40,
   "source": [
    "def enqueue(Q, x):\r\n",
    "    if Q.head == Q.tail and Q.elements != [None] * Q.length:\r\n",
    "        raise OverflowError\r\n",
    "        \r\n",
    "    Q.elements[Q.tail] = x\r\n",
    "\r\n",
    "    if Q.tail == Q.length:\r\n",
    "        Q.tail == 0\r\n",
    "    else:\r\n",
    "        Q.tail += 1\r\n",
    "\r\n",
    "def dequeue(Q):\r\n",
    "    if Q.elements == [None] * Q.length:\r\n",
    "        raise Exception(\"Underflow error.\")\r\n",
    "\r\n",
    "    x = Q.elements[Q.head]\r\n",
    "    Q.elements[Q.head] = None\r\n",
    "\r\n",
    "    if Q.head == Q.length:\r\n",
    "        Q.head = 0\r\n",
    "    else:\r\n",
    "        Q.head += 1\r\n",
    "\r\n",
    "    return x"
   ],
   "outputs": [],
   "metadata": {}
  },
  {
   "cell_type": "markdown",
   "source": [
    "***10.1-5***<br>\r\n",
    "Whereas a stack allows insertion and deletion of elements at only one end, and a queue allows insertion at one end and deletion at the other end, a ***deque*** (double-ended queue) allows insertion and deletion at both ends. Write four _O_(1)-time procedures to insert elements into and delete elements from both ends of a deque implemented by an array."
   ],
   "metadata": {}
  },
  {
   "cell_type": "code",
   "execution_count": 41,
   "source": [
    "def enqueue_back(Q,x):\r\n",
    "    enqueue(Q,x)\r\n",
    "\r\n",
    "def dequeue_front(Q):\r\n",
    "    dequeue(Q)\r\n",
    "\r\n",
    "def enqueue_front(Q, x):\r\n",
    "    if Q.head == Q.tail and Q.elements != [None] * Q.length:\r\n",
    "        raise OverflowError\r\n",
    "        \r\n",
    "    Q.elements[Q.head] = x\r\n",
    "\r\n",
    "    if Q.head == 0:\r\n",
    "        Q.head == Q.length\r\n",
    "    else:\r\n",
    "        Q.head -= 1\r\n",
    "\r\n",
    "def dequeue_back(Q):\r\n",
    "    if Q.elements == [None] * Q.length:\r\n",
    "        raise Exception(\"Underflow error.\")\r\n",
    "\r\n",
    "    x = Q.elements[Q.tail]\r\n",
    "    Q.elements[Q.tail] = None\r\n",
    "\r\n",
    "    if Q.tail == 0:\r\n",
    "        Q.tail = Q.length\r\n",
    "    else:\r\n",
    "        Q.tail -= 1\r\n",
    "\r\n",
    "    return x"
   ],
   "outputs": [],
   "metadata": {}
  },
  {
   "cell_type": "markdown",
   "source": [
    "***10.1-6***<br>\r\n",
    "Show how to implement a queue using two stacks. Analyze the running time of the queue operations."
   ],
   "metadata": {}
  },
  {
   "cell_type": "code",
   "execution_count": 43,
   "source": [
    "class QueueUsingStacks:\r\n",
    "    def __init__(self, size):\r\n",
    "        self.s1 = Stack(size)\r\n",
    "        self.s2 = Stack(size)\r\n",
    "\r\n",
    "    def enqueue(self, x):\r\n",
    "        # Move elements from stack1 to stack2\r\n",
    "        while not stack_empty(self.s1):\r\n",
    "            push(self.s2, self.s1.elements[self.s1.top])\r\n",
    "            pop(self.s1)\r\n",
    "        \r\n",
    "        push(self.stack1, x) # push new element into stack1\r\n",
    "\r\n",
    "        while not stack_empty(self.s2):\r\n",
    "            push(self.s1, self.s2.elements[self.s2.top])\r\n",
    "            pop(self.s2)\r\n",
    "\r\n",
    "    def dequeue(self):\r\n",
    "        if stack_empty(self.s1):\r\n",
    "            raise Exception(\"Underflow error.\")\r\n",
    "        \r\n",
    "        x = self.s1.elements[self.s1.top]\r\n",
    "        pop(self.s1)\r\n",
    "        return x\r\n",
    "\r\n",
    "# enqueue() has time complexity O(n) as operations need to be carried out on every element.\r\n",
    "# dequeue() has time complexity O(1) as only the popped element needs to be operated on.\r\n"
   ],
   "outputs": [
    {
     "output_type": "execute_result",
     "data": {
      "text/plain": [
       "'\\nenqueue() has time complexity O(n) as operations need to be carried out on every element.\\ndequeue() has time complexity O(1) as only the popped element needs to be operated on.\\n'"
      ]
     },
     "metadata": {},
     "execution_count": 43
    }
   ],
   "metadata": {}
  }
 ],
 "metadata": {
  "orig_nbformat": 4,
  "language_info": {
   "name": "python",
   "version": "3.8.5",
   "mimetype": "text/x-python",
   "codemirror_mode": {
    "name": "ipython",
    "version": 3
   },
   "pygments_lexer": "ipython3",
   "nbconvert_exporter": "python",
   "file_extension": ".py"
  },
  "kernelspec": {
   "name": "python3",
   "display_name": "Python 3.8.5 64-bit ('base': conda)"
  },
  "interpreter": {
   "hash": "ff39433d367775670857b5a26fe0f62904f7bab0aa1764437f86463c08ac313f"
  }
 },
 "nbformat": 4,
 "nbformat_minor": 2
}