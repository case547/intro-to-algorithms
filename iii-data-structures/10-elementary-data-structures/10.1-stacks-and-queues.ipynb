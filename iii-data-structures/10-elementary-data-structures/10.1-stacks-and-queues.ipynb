{
 "cells": [
  {
   "cell_type": "code",
   "execution_count": 3,
   "source": [
    "class Stack:\r\n",
    "    def __init__(self):\r\n",
    "        self.elements = []\r\n",
    "\r\n",
    "    def stack_empty(self):\r\n",
    "        return self.elements == 0\r\n",
    "\r\n",
    "    def push(self, x):\r\n",
    "        "
   ],
   "outputs": [
    {
     "output_type": "execute_result",
     "data": {
      "text/plain": [
       "True"
      ]
     },
     "metadata": {},
     "execution_count": 3
    }
   ],
   "metadata": {}
  }
 ],
 "metadata": {
  "orig_nbformat": 4,
  "language_info": {
   "name": "python",
   "version": "3.9.6",
   "mimetype": "text/x-python",
   "codemirror_mode": {
    "name": "ipython",
    "version": 3
   },
   "pygments_lexer": "ipython3",
   "nbconvert_exporter": "python",
   "file_extension": ".py"
  },
  "kernelspec": {
   "name": "python3",
   "display_name": "Python 3.9.6 64-bit"
  },
  "interpreter": {
   "hash": "bfbdfb0c43438f01dba741f70dc76621f92ff7363f8b2daf0c68e559af6ef8ac"
  }
 },
 "nbformat": 4,
 "nbformat_minor": 2
}