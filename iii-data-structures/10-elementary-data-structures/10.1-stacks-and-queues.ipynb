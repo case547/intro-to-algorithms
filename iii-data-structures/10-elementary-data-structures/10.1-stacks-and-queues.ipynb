{
 "cells": [
  {
   "cell_type": "code",
   "execution_count": 5,
   "source": [
    "class Stack:\r\n",
    "    def __init__(self):\r\n",
    "        self.elements = []\r\n",
    "\r\n",
    "    def stack_empty(self):\r\n",
    "        return self.elements == 0\r\n",
    "\r\n",
    "    def push(self, x):\r\n",
    "        self.items.append(x)\r\n",
    "\r\n",
    "    def pop(self):\r\n",
    "        # if self.stack_empty():\r\n",
    "        #     raise Exception(\"Underflow error.\")\r\n",
    "        # else:\r\n",
    "        return self.elements.pop()"
   ],
   "outputs": [],
   "metadata": {}
  }
 ],
 "metadata": {
  "orig_nbformat": 4,
  "language_info": {
   "name": "python",
   "version": "3.8.5",
   "mimetype": "text/x-python",
   "codemirror_mode": {
    "name": "ipython",
    "version": 3
   },
   "pygments_lexer": "ipython3",
   "nbconvert_exporter": "python",
   "file_extension": ".py"
  },
  "kernelspec": {
   "name": "python3",
   "display_name": "Python 3.8.5 64-bit ('base': conda)"
  },
  "interpreter": {
   "hash": "ff39433d367775670857b5a26fe0f62904f7bab0aa1764437f86463c08ac313f"
  }
 },
 "nbformat": 4,
 "nbformat_minor": 2
}